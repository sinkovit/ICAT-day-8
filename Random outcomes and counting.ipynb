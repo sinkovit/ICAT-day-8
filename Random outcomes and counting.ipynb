{
 "cells": [
  {
   "cell_type": "markdown",
   "metadata": {},
   "source": [
    "# Random numbers and counting outcomes"
   ]
  },
  {
   "cell_type": "markdown",
   "metadata": {},
   "source": [
    "We introduce numpy's random number functions and a few advanced data types that we can use to count and order outcomes. This will all be very useful if we want to simulate dices rolls, coin tosses, dealing cards, spinning roulette wheels and other games of chance.\n",
    "\n",
    "Note - several of you may have already discovered Python's random numger generation through the `math` packaage. That's fine, but you may want to consider using numpy instead due to its wider use and stronger developer community."
   ]
  },
  {
   "cell_type": "code",
   "execution_count": null,
   "metadata": {},
   "outputs": [],
   "source": [
    "from collections import Counter\n",
    "from collections import OrderedDict\n",
    "import numpy as np"
   ]
  },
  {
   "cell_type": "markdown",
   "metadata": {},
   "source": [
    "## Sampling random integers"
   ]
  },
  {
   "cell_type": "markdown",
   "metadata": {},
   "source": [
    "To generate a numpy array (behaves just like a list) of random integers, use `np.random.randint(min, max, count)` where `min` is inclusive, `max` is exclusive and `count` is the number of random integers."
   ]
  },
  {
   "cell_type": "code",
   "execution_count": null,
   "metadata": {},
   "outputs": [],
   "source": [
    "# Simulating 20 rolls of a 4-sided die\n",
    "rolls = np.random.randint(1,5,20)\n",
    "print(type(rolls))\n",
    "print(rolls)"
   ]
  },
  {
   "cell_type": "code",
   "execution_count": null,
   "metadata": {},
   "outputs": [],
   "source": [
    "# Simulating 15 rolls of a 20-sided die\n",
    "rolls = np.random.randint(1,21,15)\n",
    "print(rolls)"
   ]
  },
  {
   "cell_type": "markdown",
   "metadata": {},
   "source": [
    "One of the cool features of numpy arrays is that we can do operations element-by-element on arrays of the same size. This is something you can't do with regular Python lists."
   ]
  },
  {
   "cell_type": "code",
   "execution_count": null,
   "metadata": {},
   "outputs": [],
   "source": [
    "trial1 = np.random.randint(1,21,10)\n",
    "trial2 = np.random.randint(1,21,10)\n",
    "trial_sum = trial1 + trial2 # We're adding arrays.\n",
    "print(trial1)\n",
    "print(trial2)\n",
    "print(trial_sum)\n",
    "\n",
    "print()\n",
    "for a, b, c in zip(trial1, trial2, trial_sum):\n",
    "    print(a, '+', b, '=', c)"
   ]
  },
  {
   "cell_type": "markdown",
   "metadata": {},
   "source": [
    "## Sampling random floating point numbers"
   ]
  },
  {
   "cell_type": "markdown",
   "metadata": {},
   "source": [
    "To generate a numpy array (behaves just like a list) of random numbers between zero and one from a uniform distribution, use `np.random.random(count)`"
   ]
  },
  {
   "cell_type": "code",
   "execution_count": null,
   "metadata": {},
   "outputs": [],
   "source": [
    "outcomes = np.random.random(20)\n",
    "print(outcomes)"
   ]
  },
  {
   "cell_type": "markdown",
   "metadata": {},
   "source": [
    "To sample over a different range, say 0-10 rather than 0-1, just scale your results. Numpy arrays allow you to apply operation to all elements of the array at once."
   ]
  },
  {
   "cell_type": "code",
   "execution_count": null,
   "metadata": {},
   "outputs": [],
   "source": [
    "outcomes = 10 * np.random.random(20)\n",
    "print(outcomes)"
   ]
  },
  {
   "cell_type": "markdown",
   "metadata": {},
   "source": [
    "## Sampling from a collection of items"
   ]
  },
  {
   "cell_type": "markdown",
   "metadata": {},
   "source": [
    "Use `np.random.choice(a)` to random select an element from a collection of items (list, numpy array, set). Add `size=n` to specify the number of samples and `replace=False` to do sampling without replacement."
   ]
  },
  {
   "cell_type": "code",
   "execution_count": null,
   "metadata": {},
   "outputs": [],
   "source": [
    "mylist = ['A', 'B', 'C', 'D', 'E', 'F']"
   ]
  },
  {
   "cell_type": "code",
   "execution_count": null,
   "metadata": {},
   "outputs": [],
   "source": [
    "# Sample a single random item from mylist\n",
    "x = np.random.choice(mylist)\n",
    "print(x)"
   ]
  },
  {
   "cell_type": "code",
   "execution_count": null,
   "metadata": {},
   "outputs": [],
   "source": [
    "# Sample 10 random items from mylist\n",
    "# Note that replacements are allowed\n",
    "x = np.random.choice(mylist, size=10)\n",
    "print(x)"
   ]
  },
  {
   "cell_type": "code",
   "execution_count": null,
   "metadata": {},
   "outputs": [],
   "source": [
    "# Sample 5 random items from mylist without replacement\n",
    "# NOTE - this is equivalent to a random combination 7-choose-5\n",
    "x = np.random.choice(mylist, size=5, replace=False)\n",
    "print(x)"
   ]
  },
  {
   "cell_type": "markdown",
   "metadata": {},
   "source": [
    "## Exercises"
   ]
  },
  {
   "cell_type": "markdown",
   "metadata": {},
   "source": [
    "Do the following exercies\n",
    "\n",
    "(1) Simulate 50 rolls of an 8-sided die\n",
    "\n",
    "(2) Simulate 20 rolls of a 7-sided die\n",
    "\n",
    "(3) Roll the following handful of dice 20 times and calculate the sum for each outcome:\n",
    "\n",
    "+ One 4-sided die\n",
    "+ Two 6-sided dice\n",
    "+ Three 8-sided dice\n",
    "\n",
    "See earlier example where we directly added numpy arrays.\n",
    "\n",
    "As a bonus, see if you can generate the following output (your numbers will vary). Hint, you may want to use the zip function like we did earlier.\n",
    "\n",
    "+ 4-sided: 3 + 6-sided: 4 5 + 8-sided: 4 6 8 = 30\n",
    "+ 4-sided: 1 + 6-sided: 4 2 + 8-sided: 3 5 1 = 16\n",
    "+ ...\n",
    "\n",
    "(4) Generate random samples of the letters A-D with and without replacement. What happens if you try to sample too many items when not allowing replacement?\n",
    "\n",
    "(5) Bonus - either using stackoverflow or the Python help (`np.random.choice?`), see if you can figure out how to do random sampling with uneven probabilities. For example, \n",
    "\n",
    "A: 10%, B: 20%, C: 30%, D: 40%"
   ]
  },
  {
   "cell_type": "markdown",
   "metadata": {},
   "source": [
    "## Counting outcomes"
   ]
  },
  {
   "cell_type": "markdown",
   "metadata": {},
   "source": [
    "What if we want to keep track of how many times each outcome occurs? We can use the functionality that we imported at the top of the notebook.\n",
    "\n",
    "```python\n",
    "from collections import Counter\n",
    "from collections import OrderedDict\n",
    "```"
   ]
  },
  {
   "cell_type": "code",
   "execution_count": null,
   "metadata": {},
   "outputs": [],
   "source": [
    "rolls = np.random.randint(1,5,2000)\n",
    "print(rolls)\n",
    "counts = Counter(rolls)"
   ]
  },
  {
   "cell_type": "code",
   "execution_count": null,
   "metadata": {},
   "outputs": [],
   "source": [
    "print(counts)\n",
    "print()\n",
    "for key,value in counts.items():\n",
    "    print(key, value)"
   ]
  },
  {
   "cell_type": "markdown",
   "metadata": {},
   "source": [
    "To sort the results, use the OrderedDict and the example below"
   ]
  },
  {
   "cell_type": "code",
   "execution_count": null,
   "metadata": {},
   "outputs": [],
   "source": [
    "# Dense piece of code - I had to look this up\n",
    "od = OrderedDict(sorted(counts.items()))\n",
    "print(od)\n",
    "\n",
    "for x, y in zip(od.keys(), od.values()):\n",
    "    print(x, y)"
   ]
  },
  {
   "cell_type": "code",
   "execution_count": null,
   "metadata": {},
   "outputs": [],
   "source": []
  }
 ],
 "metadata": {
  "kernelspec": {
   "display_name": "Python 3",
   "language": "python",
   "name": "python3"
  },
  "language_info": {
   "codemirror_mode": {
    "name": "ipython",
    "version": 3
   },
   "file_extension": ".py",
   "mimetype": "text/x-python",
   "name": "python",
   "nbconvert_exporter": "python",
   "pygments_lexer": "ipython3",
   "version": "3.6.4"
  }
 },
 "nbformat": 4,
 "nbformat_minor": 2
}
