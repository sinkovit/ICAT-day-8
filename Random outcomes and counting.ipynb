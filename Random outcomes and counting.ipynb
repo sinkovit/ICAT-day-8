{
 "cells": [
  {
   "cell_type": "markdown",
   "metadata": {},
   "source": [
    "# Random numbers and counting outcomes"
   ]
  },
  {
   "cell_type": "markdown",
   "metadata": {},
   "source": [
    "We introduce numpy's random number functions and a few advanced data types that we can use to count and order outcomes. This will all be very useful if we want to simulate dices rolls, coin tosses, dealing cards, spinning roulette wheels and other games of chance.\n",
    "\n",
    "Note - several of you may have already discovered Python's random numger generation through the `math` packaage. That's fine, but you may want to consider using numpy instead due to its wider use and stronger developer community."
   ]
  },
  {
   "cell_type": "code",
   "execution_count": 26,
   "metadata": {},
   "outputs": [],
   "source": [
    "from collections import Counter\n",
    "from collections import OrderedDict\n",
    "import numpy as np"
   ]
  },
  {
   "cell_type": "markdown",
   "metadata": {},
   "source": [
    "## Sampling random integers"
   ]
  },
  {
   "cell_type": "markdown",
   "metadata": {},
   "source": [
    "To generate a numpy array (behaves just like a list) of random integers, use `np.random.randint(min, max, count)` where `min` is inclusive, `max` is exclusive and `count` is the number of random integers."
   ]
  },
  {
   "cell_type": "code",
   "execution_count": 27,
   "metadata": {},
   "outputs": [
    {
     "name": "stdout",
     "output_type": "stream",
     "text": [
      "<class 'numpy.ndarray'>\n",
      "[2 4 4 4 4 3 4 4 2 1 3 4 3 4 4 1 4 3 3 4]\n"
     ]
    }
   ],
   "source": [
    "# Simulating 20 rolls of a 4-sided die\n",
    "rolls = np.random.randint(1,5,20)\n",
    "print(type(rolls))\n",
    "print(rolls)"
   ]
  },
  {
   "cell_type": "code",
   "execution_count": 28,
   "metadata": {},
   "outputs": [
    {
     "name": "stdout",
     "output_type": "stream",
     "text": [
      "[ 9  3  4  7 11 15 19  5  1 19 11 18  8 20  9]\n"
     ]
    }
   ],
   "source": [
    "# Simulating 15 rolls of a 20-sided die\n",
    "rolls = np.random.randint(1,21,15)\n",
    "print(rolls)"
   ]
  },
  {
   "cell_type": "markdown",
   "metadata": {},
   "source": [
    "One of the cool features of numpy arrays is that we can do operations element-by-element on arrays of the same size. This is something you can't do with regular Python lists."
   ]
  },
  {
   "cell_type": "code",
   "execution_count": 29,
   "metadata": {},
   "outputs": [
    {
     "name": "stdout",
     "output_type": "stream",
     "text": [
      "[11  6 13  9 19 15  2  1  8 11]\n",
      "[ 6  3  9  9 11  4 19 10  8 11]\n",
      "[17  9 22 18 30 19 21 11 16 22]\n",
      "\n",
      "11 + 6 = 17\n",
      "6 + 3 = 9\n",
      "13 + 9 = 22\n",
      "9 + 9 = 18\n",
      "19 + 11 = 30\n",
      "15 + 4 = 19\n",
      "2 + 19 = 21\n",
      "1 + 10 = 11\n",
      "8 + 8 = 16\n",
      "11 + 11 = 22\n"
     ]
    }
   ],
   "source": [
    "trial1 = np.random.randint(1,21,10)\n",
    "trial2 = np.random.randint(1,21,10)\n",
    "trial_sum = trial1 + trial2 # We're adding arrays.\n",
    "print(trial1)\n",
    "print(trial2)\n",
    "print(trial_sum)\n",
    "\n",
    "print()\n",
    "for a, b, c in zip(trial1, trial2, trial_sum):\n",
    "    print(a, '+', b, '=', c)"
   ]
  },
  {
   "cell_type": "markdown",
   "metadata": {},
   "source": [
    "## Sampling random floating point numbers"
   ]
  },
  {
   "cell_type": "markdown",
   "metadata": {},
   "source": [
    "To generate a numpy array (behaves just like a list) of random numbers between zero and one from a uniform distribution, use `np.random.random(count)`"
   ]
  },
  {
   "cell_type": "code",
   "execution_count": 30,
   "metadata": {},
   "outputs": [
    {
     "name": "stdout",
     "output_type": "stream",
     "text": [
      "[0.69023378 0.66367513 0.59948823 0.35472024 0.15875959 0.00486269\n",
      " 0.7030124  0.36318915 0.04287805 0.76755714 0.33015025 0.5308122\n",
      " 0.13441247 0.35280335 0.48057904 0.81072707 0.65727538 0.43985643\n",
      " 0.53838583 0.25486441]\n"
     ]
    }
   ],
   "source": [
    "outcomes = np.random.random(20)\n",
    "print(outcomes)"
   ]
  },
  {
   "cell_type": "markdown",
   "metadata": {},
   "source": [
    "To sample over a different range, say 0-10 rather than 0-1, just scale your results. Numpy arrays allow you to apply operation to all elements of the array at once."
   ]
  },
  {
   "cell_type": "code",
   "execution_count": 31,
   "metadata": {},
   "outputs": [
    {
     "name": "stdout",
     "output_type": "stream",
     "text": [
      "[3.85378882 3.61174024 4.26516077 2.05037402 2.9578402  0.54820592\n",
      " 7.20908561 1.35257311 5.26402969 2.55247425 3.53982308 1.86077015\n",
      " 1.52881671 9.37192773 9.3210281  1.63216244 5.48229731 0.16696376\n",
      " 4.61525036 7.62199562]\n"
     ]
    }
   ],
   "source": [
    "outcomes = 10 * np.random.random(20)\n",
    "print(outcomes)"
   ]
  },
  {
   "cell_type": "markdown",
   "metadata": {},
   "source": [
    "## Sampling from a collection of items"
   ]
  },
  {
   "cell_type": "markdown",
   "metadata": {},
   "source": [
    "Use `np.random.choice(a)` to random select an element from a collection of items (list, numpy array, set). Add `size=n` to specify the number of samples and `replace=False` to do sampling without replacement."
   ]
  },
  {
   "cell_type": "code",
   "execution_count": 32,
   "metadata": {},
   "outputs": [],
   "source": [
    "mylist = ['A', 'B', 'C', 'D', 'E', 'F']"
   ]
  },
  {
   "cell_type": "code",
   "execution_count": 33,
   "metadata": {},
   "outputs": [
    {
     "name": "stdout",
     "output_type": "stream",
     "text": [
      "D\n"
     ]
    }
   ],
   "source": [
    "# Sample a single random item from mylist\n",
    "x = np.random.choice(mylist)\n",
    "print(x)"
   ]
  },
  {
   "cell_type": "code",
   "execution_count": 34,
   "metadata": {},
   "outputs": [
    {
     "name": "stdout",
     "output_type": "stream",
     "text": [
      "['A' 'C' 'E' 'D' 'B' 'D' 'E' 'F' 'E' 'D']\n"
     ]
    }
   ],
   "source": [
    "# Sample 10 random items from mylist\n",
    "# Note that replacements are allowed\n",
    "x = np.random.choice(mylist, size=10)\n",
    "print(x)"
   ]
  },
  {
   "cell_type": "code",
   "execution_count": 35,
   "metadata": {},
   "outputs": [
    {
     "name": "stdout",
     "output_type": "stream",
     "text": [
      "['C' 'A' 'B' 'E' 'D']\n"
     ]
    }
   ],
   "source": [
    "# Sample 5 random items from mylist without replacement\n",
    "# NOTE - this is equivalent to a random combination 7-choose-5\n",
    "x = np.random.choice(mylist, size=5, replace=False)\n",
    "print(x)"
   ]
  },
  {
   "cell_type": "markdown",
   "metadata": {},
   "source": [
    "## Exercises"
   ]
  },
  {
   "cell_type": "markdown",
   "metadata": {},
   "source": [
    "Do the following exercies\n",
    "\n",
    "(1) Simulate 50 rolls of an 8-sided die\n",
    "\n",
    "(2) Simulate 20 rolls of a 7-sided die\n",
    "\n",
    "(3) Roll the following handful of dice 20 times and calculate the sum for each outcome:\n",
    "\n",
    "+ One 4-sided die\n",
    "+ Two 6-sided dice\n",
    "+ Three 8-sided dice\n",
    "\n",
    "See earlier example where we directly added numpy arrays.\n",
    "\n",
    "As a bonus, see if you can generate the following output (your numbers will vary). Hint, you may want to use the zip function like we did earlier.\n",
    "\n",
    "+ 4-sided: 3 + 6-sided: 4 5 + 8-sided: 4 6 8 = 30\n",
    "+ 4-sided: 1 + 6-sided: 4 2 + 8-sided: 3 5 1 = 16\n",
    "+ ...\n",
    "\n",
    "(4) Generate random samples of the letters A-D with and without replacement. What happens if you try to sample too many items when not allowing replacement?\n",
    "\n",
    "(5) Bonus - either using stackoverflow or the Python help (`np.random.choice?`), see if you can figure out how to do random sampling with uneven probabilities. For example, \n",
    "\n",
    "A: 10%, B: 20%, C: 30%, D: 40%"
   ]
  },
  {
   "cell_type": "markdown",
   "metadata": {},
   "source": [
    "## Counting outcomes"
   ]
  },
  {
   "cell_type": "markdown",
   "metadata": {},
   "source": [
    "What if we want to keep track of how many times each outcome occurs? We can use the functionality that we imported at the top of the notebook.\n",
    "\n",
    "```python\n",
    "from collections import Counter\n",
    "from collections import OrderedDict\n",
    "```"
   ]
  },
  {
   "cell_type": "code",
   "execution_count": 39,
   "metadata": {},
   "outputs": [
    {
     "name": "stdout",
     "output_type": "stream",
     "text": [
      "[1 1 1 ... 1 2 3]\n"
     ]
    }
   ],
   "source": [
    "rolls = np.random.randint(1,5,2000)\n",
    "print(rolls)\n",
    "counts = Counter(rolls)"
   ]
  },
  {
   "cell_type": "code",
   "execution_count": 40,
   "metadata": {},
   "outputs": [
    {
     "name": "stdout",
     "output_type": "stream",
     "text": [
      "Counter({3: 538, 4: 513, 1: 488, 2: 461})\n",
      "\n",
      "1 488\n",
      "4 513\n",
      "3 538\n",
      "2 461\n"
     ]
    }
   ],
   "source": [
    "print(counts)\n",
    "print()\n",
    "for key,value in counts.items():\n",
    "    print(key, value)"
   ]
  },
  {
   "cell_type": "markdown",
   "metadata": {},
   "source": [
    "To sort the results, use the OrderedDict and the example below"
   ]
  },
  {
   "cell_type": "code",
   "execution_count": 41,
   "metadata": {},
   "outputs": [
    {
     "name": "stdout",
     "output_type": "stream",
     "text": [
      "OrderedDict([(1, 488), (2, 461), (3, 538), (4, 513)])\n",
      "1 488\n",
      "2 461\n",
      "3 538\n",
      "4 513\n"
     ]
    }
   ],
   "source": [
    "# Dense piece of code - I had to look this up\n",
    "od = OrderedDict(sorted(counts.items()))\n",
    "print(od)\n",
    "\n",
    "for x, y in zip(od.keys(), od.values()):\n",
    "    print(x, y)"
   ]
  },
  {
   "cell_type": "code",
   "execution_count": null,
   "metadata": {},
   "outputs": [],
   "source": []
  }
 ],
 "metadata": {
  "kernelspec": {
   "display_name": "Python 3",
   "language": "python",
   "name": "python3"
  },
  "language_info": {
   "codemirror_mode": {
    "name": "ipython",
    "version": 3
   },
   "file_extension": ".py",
   "mimetype": "text/x-python",
   "name": "python",
   "nbconvert_exporter": "python",
   "pygments_lexer": "ipython3",
   "version": "3.6.4"
  }
 },
 "nbformat": 4,
 "nbformat_minor": 2
}
