{
 "cells": [
  {
   "cell_type": "markdown",
   "metadata": {},
   "source": [
    "# While loops and input"
   ]
  },
  {
   "cell_type": "markdown",
   "metadata": {},
   "source": [
    "While loops give you the capability to repeatedly execute code until a condition is met.\n",
    "\n",
    "```python\n",
    "while condition:\n",
    "    do something\n",
    "```\n",
    "\n",
    "There are two general ways that you'll use while loops. In the first, you'll use `while True` and then execute a `break` statement to exit the loop. In the other you'll test the condition at the top of the loop. We'll illustrate both of these below.\n",
    "\n",
    "You'll most often use the while loop with interactive code where the user is prompted to enter data using the `input()` function. Note that `input()` returns a string, so you'll need to expicitly cast to an integer (`int()`) or a floating point number (`float()`) if you want a numerical value.\n",
    "\n",
    "Bonus feature - take a look at the `print()` statement. We defined a value for `end` so that we don't include a newline character in the printing."
   ]
  },
  {
   "cell_type": "code",
   "execution_count": null,
   "metadata": {},
   "outputs": [],
   "source": [
    "while True:\n",
    "    print(\"enter a number: \", end='')\n",
    "    n = int(input())\n",
    "    if n == 0:\n",
    "        print(\"goodbye\")\n",
    "        break"
   ]
  },
  {
   "cell_type": "code",
   "execution_count": 12,
   "metadata": {},
   "outputs": [
    {
     "name": "stdout",
     "output_type": "stream",
     "text": [
      "enter a number: 1\n",
      "enter a number: 2\n",
      "enter a number: 0\n",
      "goodbye\n"
     ]
    }
   ],
   "source": [
    "while n != 0:\n",
    "    print(\"enter a number: \", end='')\n",
    "    n = int(input())\n",
    "        \n",
    "print(\"goodbye\")"
   ]
  },
  {
   "cell_type": "markdown",
   "metadata": {},
   "source": [
    "## What if I get stuck in a while loop?"
   ]
  },
  {
   "cell_type": "markdown",
   "metadata": {},
   "source": [
    "It's very easy to make a mistake when using while loops so that you don't provide a way to exit. In a Jupyter notebook, you can go to Kernel > Interrupt. Don't worry about all the error messages. "
   ]
  },
  {
   "cell_type": "markdown",
   "metadata": {},
   "source": [
    "## Exercises"
   ]
  },
  {
   "cell_type": "markdown",
   "metadata": {},
   "source": [
    "(1) Create a while loop that provides no way of exiting. Demonstrate that you can use Kernel > Interrupt to escape.\n",
    "\n",
    "(2) Write two while loops that prompt the user for input, adds to a running sum and exits once the sum reaches or exceeds 20. For example\n",
    "\n",
    "+ sum starts at zero\n",
    "+ user enters 2 and sum updated to 2\n",
    "+ user enters 5 and sum updated to 7\n",
    "+ user enters 14, sum updated to 21 and exit\n",
    "\n",
    "For the first loop, use `while True` and a break statement\n",
    "\n",
    "For the second loop, test the value of the sum on the `while` statement.\n",
    "\n",
    "Hint - do not use the word `sum` as your variable name, this is reserved by Python (turns greenwhen used in cell).\n",
    "\n",
    "(3) In execise 2, what happens if you forget to convert the number to a numerical value (e.g. `n = input()` instead of `n = int(input())`? Can you make sense of the error messages?"
   ]
  },
  {
   "cell_type": "code",
   "execution_count": null,
   "metadata": {},
   "outputs": [],
   "source": []
  }
 ],
 "metadata": {
  "kernelspec": {
   "display_name": "Python 3",
   "language": "python",
   "name": "python3"
  },
  "language_info": {
   "codemirror_mode": {
    "name": "ipython",
    "version": 3
   },
   "file_extension": ".py",
   "mimetype": "text/x-python",
   "name": "python",
   "nbconvert_exporter": "python",
   "pygments_lexer": "ipython3",
   "version": "3.6.4"
  }
 },
 "nbformat": 4,
 "nbformat_minor": 2
}
